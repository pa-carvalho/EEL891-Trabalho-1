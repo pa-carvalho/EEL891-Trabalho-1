{
 "cells": [
  {
   "cell_type": "markdown",
   "id": "16d89776",
   "metadata": {},
   "source": [
    "# Trabalho 1 - EEL891"
   ]
  },
  {
   "cell_type": "markdown",
   "id": "54e5404c",
   "metadata": {},
   "source": [
    "Etapas que serão realizadas a seguir:\n",
    "- Implementar o pré-processamento\n",
    "- Visualizar, analisar e selecionar os atributos\n",
    "- Escolher os métodos que serão usados e compará-los\n",
    "- Verificar o desempenho com validação cruzada\n",
    "- Ajustas os hiperparâmetros para chegar ao melhor resultado possível\n",
    "- Treinar o modelo com o conjunto de teste"
   ]
  },
  {
   "cell_type": "markdown",
   "id": "7bf7e4bf",
   "metadata": {},
   "source": [
    "### Importação das bibliotecas"
   ]
  },
  {
   "cell_type": "code",
   "execution_count": 1,
   "id": "79d30711",
   "metadata": {},
   "outputs": [],
   "source": [
    "import pandas as pd\n",
    "import numpy  as np\n",
    "\n",
    "from matplotlib                 import pyplot as plt\n",
    "\n",
    "from sklearn.naive_bayes        import MultinomialNB, GaussianNB\n",
    "from sklearn.model_selection    import cross_val_predict, train_test_split\n",
    "from sklearn.metrics            import accuracy_score\n",
    "from sklearn.neighbors          import KNeighborsClassifier\n",
    "from sklearn.preprocessing      import LabelBinarizer, MinMaxScaler, StandardScaler, LabelEncoder\n",
    "from sklearn.linear_model       import LogisticRegression\n",
    "from scipy.stats                import pearsonr\n",
    "\n",
    "import sklearn"
   ]
  },
  {
   "cell_type": "markdown",
   "id": "a0e52b81",
   "metadata": {},
   "source": [
    "### Pré-processamento"
   ]
  },
  {
   "cell_type": "markdown",
   "id": "cccd57c1",
   "metadata": {},
   "source": [
    "Agora, o próximo passo é importar o conjunto de treinamento:"
   ]
  },
  {
   "cell_type": "code",
   "execution_count": 2,
   "id": "5f783757",
   "metadata": {},
   "outputs": [],
   "source": [
    "dados = pd.read_csv(r\"C:\\Users\\andre\\Documents\\UFRJ\\SÉTIMO PERÍODO\\Introdução ao Aprendizado de Máquina\\EEL891-Trabalho-1\\conjunto_de_treinamento.csv\")\n",
    "dados = dados.iloc[:,:]"
   ]
  },
  {
   "cell_type": "markdown",
   "id": "b325421f",
   "metadata": {},
   "source": [
    "Embaralhamento dos dados e separá-los em atributos e alvo (convertendo para um array):"
   ]
  },
  {
   "cell_type": "code",
   "execution_count": 3,
   "id": "f6133260",
   "metadata": {},
   "outputs": [],
   "source": [
    "dados = dados.sample(frac=1)\n",
    "x = dados.iloc[:,:-1].to_numpy()\n",
    "y = dados.iloc[:,-1].to_numpy()"
   ]
  },
  {
   "cell_type": "markdown",
   "id": "855115be",
   "metadata": {},
   "source": [
    "Descartando algumas informações que não são relevantes. O campo \"id_solicitante\" é um número de 1 a 20000, ou seja, apenas atrapalharia o modelo. Os campos \"grau_instrucao\" e \"possui_telefone_celular\" não foram extraídos corretamente, então segui a orientação do professor para descartá-los. E o campo \"qtde_contas_bancarias_especiais\" é exatamente igual ao campo \"qtde_contas_bancarias\", logo foi descartado seguindo a orientação do professor."
   ]
  },
  {
   "cell_type": "code",
   "execution_count": 4,
   "id": "3c3ed977",
   "metadata": {},
   "outputs": [],
   "source": [
    "dados = dados.drop(['id_solicitante', 'grau_instrucao', 'possui_telefone_celular', 'qtde_contas_bancarias_especiais'],axis=1)"
   ]
  },
  {
   "cell_type": "markdown",
   "id": "c4462792",
   "metadata": {},
   "source": [
    "Identificação das variáveis categóricas olhando o dicionário de dados:"
   ]
  },
  {
   "cell_type": "code",
   "execution_count": 5,
   "id": "413b1347",
   "metadata": {},
   "outputs": [],
   "source": [
    "variaveisCategoricas = [x for x in dados.columns if dados[x].dtype=='object' or x == 'produto_solicitado' or x == 'tipo_endereco' or x =='estado_civil' or  x =='nacionalidade' or x=='tipo_residencia' or x=='possui_email' or x=='possui_cartao_visa' or x=='possui_cartao_mastercard' or x=='possui_cartao_diners' or x=='possui_cartao_amex' or x=='possui_cartao_cartoes' or x=='possui_carro' or x=='profissao' or x=='ocupacao' or x=='profissao_companheiro' or x=='local_onde_reside' or x=='local_onde_trabalha']\n",
    "print(variaveisCategoricas)"
   ]
  },
  {
   "cell_type": "markdown",
   "id": "84916325",
   "metadata": {},
   "source": [
    "Verificando as variáveis categóricas (quantidade de categorias e quais são):"
   ]
  },
  {
   "cell_type": "code",
   "execution_count": 6,
   "id": "4394754f",
   "metadata": {},
   "outputs": [],
   "source": [
    "for v in variaveisCategoricas:\n",
    "    print(\"\\n%15s: \" %v, \"%4d categorias\" % len(dados[v].unique() ) )\n",
    "    print(dados[v].unique(), \"\\n\")"
   ]
  },
  {
   "cell_type": "markdown",
   "id": "e66b23fa",
   "metadata": {},
   "source": [
    "Correção de alguns valores (principalmente em branco). A ideia inicial é criar uma nova categoria para os valores em branco, e depois tentar excluí-los para ver qual é a resposta dos modelos:"
   ]
  },
  {
   "cell_type": "code",
   "execution_count": 7,
   "id": "299bfe22",
   "metadata": {},
   "outputs": [],
   "source": [
    "for x in variaveisCategoricas:\n",
    "    if x == 'sexo':\n",
    "        dados[x].replace(' ', 'N', inplace=True)\n",
    "    if x == 'estado_onde_nasceu':\n",
    "        dados[x].replace(' ', 'NN', inplace=True)\n",
    "    if x == 'codigo_area_telefone_residencial':\n",
    "        dados[x].replace(' ', '000', inplace=True)\n",
    "    if x == 'tipo_residencia':\n",
    "        dados[x].replace(0, 6, inplace=True)\n",
    "        dados[x].fillna(0, inplace=True)\n",
    "    if x == 'estado_onde_trabalha':\n",
    "        dados[x].replace(' ', 'NN', inplace=True)\n",
    "    if x == 'codigo_area_telefone_trabalho':\n",
    "        dados[x].replace(' ', '000', inplace=True)\n",
    "    if x == 'profissao':\n",
    "        dados[x].replace(0, 18, inplace=True)\n",
    "        dados[x].fillna(0, inplace=True)\n",
    "    if x == 'ocupacao':\n",
    "        dados[x].replace(0, 6, inplace=True)\n",
    "        dados[x].fillna(0, inplace=True)\n",
    "    if x == 'profissao_companheiro':\n",
    "        dados[x].replace(0, 18, inplace=True)\n",
    "        dados[x].fillna(0, inplace=True)\n",
    "    print(\"\\n%15s: \" %x, \"%4d categorias\" % len(dados[x].unique() ) )\n",
    "    print(dados[x].unique(), \"\\n\")"
   ]
  },
  {
   "cell_type": "code",
   "execution_count": 8,
   "id": "13cf1b05",
   "metadata": {},
   "outputs": [],
   "source": [
    "for x in dados:\n",
    "    if x == 'meses_na_residencia':\n",
    "        dados[x].fillna(300, inplace=True)\n",
    "    if x == 'grau_instrucao_companheiro':\n",
    "        dados[x].fillna(6, inplace=True)\n",
    "    print(\"\\n%15s: \" %x, \"%4d categorias\" % len(dados[x].unique() ) )\n",
    "    print(dados[x].unique(), \"\\n\")"
   ]
  },
  {
   "cell_type": "markdown",
   "id": "31bcfb52",
   "metadata": {},
   "source": [
    "Binarizar e fazer o one hot encoding de alguns parâmetros:"
   ]
  },
  {
   "cell_type": "code",
   "execution_count": 9,
   "id": "4b1d120e",
   "metadata": {},
   "outputs": [],
   "source": [
    "dados = pd.get_dummies(dados, columns=['forma_envio_solicitacao',\n",
    "                                       'sexo'\n",
    "                                       #'estado_onde_nasceu',\n",
    "                                       #'estado_onde_reside',\n",
    "                                       #'estado_onde_trabalha'\n",
    "                                      ])\n",
    "#print(dados.T)\n",
    "\n",
    "binarizador = LabelBinarizer()\n",
    "for x in ['tipo_endereco',\n",
    "          'possui_telefone_residencial',\n",
    "          'vinculo_formal_com_empresa',\n",
    "          'possui_telefone_trabalho']:\n",
    "    dados[x] = binarizador.fit_transform(dados[x])\n",
    "print(dados.T)"
   ]
  },
  {
   "cell_type": "markdown",
   "id": "ca6e1821",
   "metadata": {},
   "source": []
  },
  {
   "cell_type": "code",
   "execution_count": null,
   "id": "13297e77",
   "metadata": {},
   "outputs": [],
   "source": []
  },
  {
   "cell_type": "markdown",
   "id": "06da3a08",
   "metadata": {},
   "source": [
    "Verificar a correlação de pearson entre os parâmetros e o alvo (obs: os parâmetros não parecem muito promissores, mas veremos mais na hora de treinar o modelo):"
   ]
  },
  {
   "cell_type": "code",
   "execution_count": 10,
   "id": "04ddf51e",
   "metadata": {},
   "outputs": [],
   "source": [
    "colunas = dados.columns\n",
    "for col in colunas:\n",
    "    if type(dados[col][0]) != str:\n",
    "        corr = pearsonr(dados[col], dados['inadimplente'])\n",
    "        print(col, \" = %.4f\" % corr[0], \" , %.10f\" % corr[1])"
   ]
  },
  {
   "cell_type": "code",
   "execution_count": 11,
   "id": "585fceb8",
   "metadata": {},
   "outputs": [],
   "source": [
    "#atributos usados pelo classificador\n",
    "atributosSelecionados = [\n",
    "    'produto_solicitado',\n",
    "    'dia_vencimento',\n",
    "    'forma_envio_solicitacao_correio',\n",
    "    'forma_envio_solicitacao_internet',\n",
    "    'forma_envio_solicitacao_presencial',\n",
    "    'tipo_endereco',\n",
    "    'sexo_M',\n",
    "    'sexo_F',\n",
    "    'sexo_N',\n",
    "    'idade',\n",
    "    'estado_civil',\n",
    "    'qtde_dependentes',\n",
    "    'nacionalidade',\n",
    "    #'estado_onde_nasceu',\n",
    "    #'estado_onde_reside',\n",
    "    'possui_telefone_residencial',\n",
    "    #'codigo_area_telefone_residencial',\n",
    "    'tipo_residencia',\n",
    "    'meses_na_residencia',\n",
    "    'possui_email',\n",
    "    'renda_mensal_regular',\n",
    "    'renda_extra',\n",
    "    'possui_cartao_visa',\n",
    "    'possui_cartao_mastercard',\n",
    "    'possui_cartao_diners',\n",
    "    'possui_cartao_amex',\n",
    "    'possui_outros_cartoes',\n",
    "    'qtde_contas_bancarias',\n",
    "    'valor_patrimonio_pessoal',\n",
    "    'possui_carro',\n",
    "    'vinculo_formal_com_empresa',\n",
    "    #'estado_onde_trabalha',\n",
    "    'possui_telefone_trabalho',\n",
    "    #'codigo_area_telefone_trabalho',\n",
    "    'meses_no_trabalho',\n",
    "    'profissao',\n",
    "    'ocupacao',\n",
    "    'profissao_companheiro',\n",
    "    'grau_instrucao_companheiro',\n",
    "    'local_onde_reside',\n",
    "    'local_onde_trabalha',\n",
    "    'inadimplente'\n",
    "]\n",
    "\n",
    "alvo = 'inadimplente'\n",
    "\n",
    "#embaralhar o conjunto de dados\n",
    "dadosEmbaralhados = dados[atributosSelecionados].sample(frac=1, random_state=1)\n",
    "print(dadosEmbaralhados.head().T)\n",
    "#criar arrays x e y separando os parâmetros do alvo\n",
    "x = dadosEmbaralhados.loc[:,dadosEmbaralhados.columns!=alvo].values\n",
    "y = dadosEmbaralhados.loc[:,dadosEmbaralhados.columns==alvo].values\n",
    "\n",
    "#separar em conjunto de treino e de teste\n",
    "amostrasTreinamento = 15000\n",
    "\n",
    "xTreino = x[:amostrasTreinamento,:]\n",
    "yTreino = y[:amostrasTreinamento].ravel()\n",
    "\n",
    "xTeste = x[amostrasTreinamento:,:]\n",
    "yTeste = y[amostrasTreinamento:].ravel()\n",
    "\n",
    "#ajustar a escala\n",
    "scaler = MinMaxScaler()\n",
    "scaler.fit(xTreino)\n",
    "\n",
    "xTreino = scaler.transform(xTreino)\n",
    "xTeste = scaler.transform(xTeste)\n",
    "\n",
    "#treinar classificador KNN\n",
    "classificador = KNeighborsClassifier(n_neighbors=5)\n",
    "\n",
    "classificador = classificador.fit(xTreino, yTreino)\n",
    "sklearn.show_versions()\n",
    "#obter as respostas do classificador\n",
    "yRespostaTreino = classificador.predict(xTreino)\n",
    "yRespostaTeste = classificador.predict(xTeste)\n",
    "\n",
    "#desempenho na amostra de treino\n",
    "total = len(yTreino)\n",
    "acertos = sum(yRespostaTreino==yTreino)\n",
    "erros = sum(yRespostaTreino!=yTreino)\n",
    "\n",
    "print(\"Total de amostras: \", total)\n",
    "print(\"Respostas corretas: \", acertos)\n",
    "print(\"Respostas erradas: \", erros)\n",
    "\n",
    "acuracia = acertos / total\n",
    "\n",
    "print(\"Acurácia: %.1f %%\" % (100*acuracia) )\n",
    "\n",
    "#verificar a variacao da acuracia com o numero de vizinhos\n",
    "\n",
    "#verificar a variacao da acuracia para regressao logistica"
   ]
  },
  {
   "cell_type": "markdown",
   "id": "c2e57f5b",
   "metadata": {},
   "source": [
    "### Treinamento do modelo"
   ]
  },
  {
   "cell_type": "markdown",
   "id": "dbd936fa",
   "metadata": {},
   "source": [
    "Classificador Bayesiano com Distribuição Multinomial:"
   ]
  },
  {
   "cell_type": "code",
   "execution_count": 12,
   "id": "dfa7dadd",
   "metadata": {},
   "outputs": [],
   "source": [
    "classificador = MultinomialNB(alpha=1.0)\n",
    "y_pred = cross_val_predict(classificador, x, y, cv=5)\n",
    "\n",
    "print(\"Acurácia = %6.4f\" % accuracy_score(y,y_pred))"
   ]
  },
  {
   "cell_type": "markdown",
   "id": "421d20f4",
   "metadata": {},
   "source": [
    "Classificador Bayesiano com Distribuição Multinomial:"
   ]
  },
  {
   "cell_type": "code",
   "execution_count": 13,
   "id": "51f88cfa",
   "metadata": {},
   "outputs": [],
   "source": [
    "classificador = GaussianNB()\n",
    "y_pred = cross_val_predict(classificador, x, y, cv=5)\n",
    "\n",
    "print(\"Acurácia = %6.4f\" % accuracy_score(y,y_pred))"
   ]
  },
  {
   "cell_type": "markdown",
   "id": "5b4e628e",
   "metadata": {},
   "source": [
    "Classificador KNN"
   ]
  },
  {
   "cell_type": "code",
   "execution_count": 14,
   "id": "79cf0ea1",
   "metadata": {},
   "outputs": [],
   "source": [
    "# print(\"\\n  K  TREINO  TESTE\")\n",
    "# print(\" --  ------  ------\")\n",
    "\n",
    "# for k in range(1,50):\n",
    "#     classificador = KNeighborsClassifier(\n",
    "#         n_neighbors=k,\n",
    "#         weights = 'uniform',\n",
    "#         p=1\n",
    "#     )\n",
    "#     classificador = classificador.fit(xTreino, yTreino)\n",
    "    \n",
    "#     yRespostaTreino = classificador.predict(xTreino)\n",
    "#     yRespostaTeste = classificador.predict(xTeste)\n",
    "    \n",
    "#     acuraciaTreino = sum(yRespostaTreino==yTreino)/len(yTreino)\n",
    "#     acuraciaTeste = sum(yRespostaTeste==yTeste)/len(yTeste)\n",
    "    \n",
    "#     print(\n",
    "#         \"%3d\" % k,\n",
    "#         \"%6.1f\" % (100*acuraciaTreino),\n",
    "#         \"%6.1f\" % (100*acuraciaTeste)\n",
    "#     )\n",
    "    \n"
   ]
  },
  {
   "cell_type": "markdown",
   "id": "82b7ef40",
   "metadata": {},
   "source": [
    "Classificador de Regressão Logística"
   ]
  },
  {
   "cell_type": "code",
   "execution_count": 15,
   "id": "37204055",
   "metadata": {},
   "outputs": [],
   "source": [
    "print(\"\\n         C  TREINO  TESTE\")\n",
    "print(\" ----------  ------  ------\")\n",
    "\n",
    "for k in range(-6,7):\n",
    "    c = pow(10,k)\n",
    "    classificador = LogisticRegression(\n",
    "        penalty = 'l2',\n",
    "        C = c\n",
    "    )\n",
    "    print(yTreino)\n",
    "    classificador = classificador.fit(xTreino, yTreino)\n",
    "    \n",
    "    yRespostaTreino = classificador.predict(xTreino)\n",
    "    yRespostaTeste = classificador.predict(xTeste)\n",
    "    \n",
    "    acuraciaTreino = sum(yRespostaTreino==yTreino)/len(yTreino)\n",
    "    acuraciaTeste = sum(yRespostaTeste==yTeste)/len(yTeste)\n",
    "    \n",
    "    print(\n",
    "        \"%14.6f\" % c,\n",
    "        \"%6.1f\" % (100*acuraciaTreino),\n",
    "        \"%6.1f\" % (100*acuraciaTeste)\n",
    "    )"
   ]
  }
 ],
 "metadata": {
  "celltoolbar": "Edit Metadata",
  "kernelspec": {
   "display_name": "Python 3 (ipykernel)",
   "language": "python",
   "name": "python3"
  },
  "language_info": {
   "codemirror_mode": {
    "name": "ipython",
    "version": 3
   },
   "file_extension": ".py",
   "mimetype": "text/x-python",
   "name": "python",
   "nbconvert_exporter": "python",
   "pygments_lexer": "ipython3",
   "version": "3.11.5"
  }
 },
 "nbformat": 4,
 "nbformat_minor": 5
}
